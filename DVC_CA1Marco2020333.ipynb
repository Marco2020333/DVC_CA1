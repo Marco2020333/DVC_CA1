{
 "cells": [
  {
   "cell_type": "code",
   "execution_count": 1,
   "id": "bc9087ec",
   "metadata": {},
   "outputs": [],
   "source": [
    "import pandas as pd # library to provide data structure, daframe, table and series\n",
    "import numpy as np # library to mathematical operation, matrices and arrays\n",
    "import matplotlib.pyplot  as plt # library to create statics, interact and charts plots\n",
    "import seaborn as sns # library to working complex visualization,also improve aesthetic of plot.\n",
    "# allow to Jupyter Notebook cell to enable inline plotting.\n",
    "%matplotlib inline    "
   ]
  },
  {
   "cell_type": "code",
   "execution_count": 2,
   "id": "0ce75458",
   "metadata": {},
   "outputs": [
    {
     "data": {
      "text/html": [
       "<div>\n",
       "<style scoped>\n",
       "    .dataframe tbody tr th:only-of-type {\n",
       "        vertical-align: middle;\n",
       "    }\n",
       "\n",
       "    .dataframe tbody tr th {\n",
       "        vertical-align: top;\n",
       "    }\n",
       "\n",
       "    .dataframe thead th {\n",
       "        text-align: right;\n",
       "    }\n",
       "</style>\n",
       "<table border=\"1\" class=\"dataframe\">\n",
       "  <thead>\n",
       "    <tr style=\"text-align: right;\">\n",
       "      <th></th>\n",
       "      <th>Year</th>\n",
       "      <th>Rank</th>\n",
       "      <th>Company</th>\n",
       "      <th>Revenue (in millions)</th>\n",
       "      <th>Profit (in millions)</th>\n",
       "    </tr>\n",
       "  </thead>\n",
       "  <tbody>\n",
       "    <tr>\n",
       "      <th>0</th>\n",
       "      <td>1955</td>\n",
       "      <td>1</td>\n",
       "      <td>General Motors</td>\n",
       "      <td>9823.5</td>\n",
       "      <td>806</td>\n",
       "    </tr>\n",
       "    <tr>\n",
       "      <th>1</th>\n",
       "      <td>1955</td>\n",
       "      <td>2</td>\n",
       "      <td>Exxon Mobil</td>\n",
       "      <td>5661.4</td>\n",
       "      <td>584.8</td>\n",
       "    </tr>\n",
       "    <tr>\n",
       "      <th>2</th>\n",
       "      <td>1955</td>\n",
       "      <td>3</td>\n",
       "      <td>U.S. Steel</td>\n",
       "      <td>3250.4</td>\n",
       "      <td>195.4</td>\n",
       "    </tr>\n",
       "    <tr>\n",
       "      <th>3</th>\n",
       "      <td>1955</td>\n",
       "      <td>4</td>\n",
       "      <td>General Electric</td>\n",
       "      <td>2959.1</td>\n",
       "      <td>212.6</td>\n",
       "    </tr>\n",
       "    <tr>\n",
       "      <th>4</th>\n",
       "      <td>1955</td>\n",
       "      <td>5</td>\n",
       "      <td>Esmark</td>\n",
       "      <td>2510.8</td>\n",
       "      <td>19.1</td>\n",
       "    </tr>\n",
       "    <tr>\n",
       "      <th>...</th>\n",
       "      <td>...</td>\n",
       "      <td>...</td>\n",
       "      <td>...</td>\n",
       "      <td>...</td>\n",
       "      <td>...</td>\n",
       "    </tr>\n",
       "    <tr>\n",
       "      <th>25495</th>\n",
       "      <td>2005</td>\n",
       "      <td>496</td>\n",
       "      <td>Wm. Wrigley Jr.</td>\n",
       "      <td>3648.6</td>\n",
       "      <td>493</td>\n",
       "    </tr>\n",
       "    <tr>\n",
       "      <th>25496</th>\n",
       "      <td>2005</td>\n",
       "      <td>497</td>\n",
       "      <td>Peabody Energy</td>\n",
       "      <td>3631.6</td>\n",
       "      <td>175.4</td>\n",
       "    </tr>\n",
       "    <tr>\n",
       "      <th>25497</th>\n",
       "      <td>2005</td>\n",
       "      <td>498</td>\n",
       "      <td>Wendy's International</td>\n",
       "      <td>3630.4</td>\n",
       "      <td>57.8</td>\n",
       "    </tr>\n",
       "    <tr>\n",
       "      <th>25498</th>\n",
       "      <td>2005</td>\n",
       "      <td>499</td>\n",
       "      <td>Kindred Healthcare</td>\n",
       "      <td>3616.6</td>\n",
       "      <td>70.6</td>\n",
       "    </tr>\n",
       "    <tr>\n",
       "      <th>25499</th>\n",
       "      <td>2005</td>\n",
       "      <td>500</td>\n",
       "      <td>Cincinnati Financial</td>\n",
       "      <td>3614.0</td>\n",
       "      <td>584</td>\n",
       "    </tr>\n",
       "  </tbody>\n",
       "</table>\n",
       "<p>25500 rows × 5 columns</p>\n",
       "</div>"
      ],
      "text/plain": [
       "       Year  Rank                Company  Revenue (in millions)  \\\n",
       "0      1955     1         General Motors                 9823.5   \n",
       "1      1955     2            Exxon Mobil                 5661.4   \n",
       "2      1955     3             U.S. Steel                 3250.4   \n",
       "3      1955     4       General Electric                 2959.1   \n",
       "4      1955     5                 Esmark                 2510.8   \n",
       "...     ...   ...                    ...                    ...   \n",
       "25495  2005   496        Wm. Wrigley Jr.                 3648.6   \n",
       "25496  2005   497         Peabody Energy                 3631.6   \n",
       "25497  2005   498  Wendy's International                 3630.4   \n",
       "25498  2005   499     Kindred Healthcare                 3616.6   \n",
       "25499  2005   500   Cincinnati Financial                 3614.0   \n",
       "\n",
       "      Profit (in millions)  \n",
       "0                      806  \n",
       "1                    584.8  \n",
       "2                    195.4  \n",
       "3                    212.6  \n",
       "4                     19.1  \n",
       "...                    ...  \n",
       "25495                  493  \n",
       "25496                175.4  \n",
       "25497                 57.8  \n",
       "25498                 70.6  \n",
       "25499                  584  \n",
       "\n",
       "[25500 rows x 5 columns]"
      ]
     },
     "execution_count": 2,
     "metadata": {},
     "output_type": "execute_result"
    }
   ],
   "source": [
    "# assign a variable to get dataset\n",
    "df = pd.read_csv(\"fortune500.csv\")\n",
    "# display the dataframe\n",
    "df"
   ]
  },
  {
   "cell_type": "markdown",
   "id": "9f74e46e",
   "metadata": {},
   "source": [
    "## Task 1: Generate a plot detailing the top 5 Companies by Revenue for each Decade\n",
    "\n",
    "# Approach:\n",
    "    \n",
    "<h3>Data Preparation:</h3>  \n",
    "    \n",
    "    * Extract the required columns from the dataset: Company, Revenue, and Year.\n",
    "    * Data were grouped by decade  as required (1950-1959, 1960-1969, etc.).\n",
    "    * Companies will be ranked each decade by revenue in descending order.\n",
    "    * Selecting the 5 best companies of each decade."
   ]
  },
  {
   "cell_type": "code",
   "execution_count": 3,
   "id": "3f27a45c",
   "metadata": {
    "scrolled": true
   },
   "outputs": [
    {
     "data": {
      "text/html": [
       "<div>\n",
       "<style scoped>\n",
       "    .dataframe tbody tr th:only-of-type {\n",
       "        vertical-align: middle;\n",
       "    }\n",
       "\n",
       "    .dataframe tbody tr th {\n",
       "        vertical-align: top;\n",
       "    }\n",
       "\n",
       "    .dataframe thead th {\n",
       "        text-align: right;\n",
       "    }\n",
       "</style>\n",
       "<table border=\"1\" class=\"dataframe\">\n",
       "  <thead>\n",
       "    <tr style=\"text-align: right;\">\n",
       "      <th></th>\n",
       "      <th>Decade</th>\n",
       "      <th>Company</th>\n",
       "      <th>Revenue (in millions)</th>\n",
       "    </tr>\n",
       "  </thead>\n",
       "  <tbody>\n",
       "    <tr>\n",
       "      <th>254</th>\n",
       "      <td>1950</td>\n",
       "      <td>General Motors</td>\n",
       "      <td>53575.0</td>\n",
       "    </tr>\n",
       "    <tr>\n",
       "      <th>217</th>\n",
       "      <td>1950</td>\n",
       "      <td>Exxon Mobil</td>\n",
       "      <td>34434.5</td>\n",
       "    </tr>\n",
       "    <tr>\n",
       "      <th>231</th>\n",
       "      <td>1950</td>\n",
       "      <td>Ford Motor</td>\n",
       "      <td>20142.6</td>\n",
       "    </tr>\n",
       "    <tr>\n",
       "      <th>571</th>\n",
       "      <td>1950</td>\n",
       "      <td>U.S. Steel</td>\n",
       "      <td>19463.0</td>\n",
       "    </tr>\n",
       "    <tr>\n",
       "      <th>250</th>\n",
       "      <td>1950</td>\n",
       "      <td>General Electric</td>\n",
       "      <td>18601.0</td>\n",
       "    </tr>\n",
       "  </tbody>\n",
       "</table>\n",
       "</div>"
      ],
      "text/plain": [
       "     Decade           Company  Revenue (in millions)\n",
       "254    1950    General Motors                53575.0\n",
       "217    1950       Exxon Mobil                34434.5\n",
       "231    1950        Ford Motor                20142.6\n",
       "571    1950        U.S. Steel                19463.0\n",
       "250    1950  General Electric                18601.0"
      ]
     },
     "execution_count": 3,
     "metadata": {},
     "output_type": "execute_result"
    }
   ],
   "source": [
    "# reassign a variable to get a copy from the original dataset\n",
    "df_copy01 = df.copy()\n",
    "# create a new column Decade and \n",
    "df_copy01['Decade'] = (df['Year'] // 10) * 10\n",
    "\n",
    "# reassing a variable and get Group by Decade and the top 5 companies by revenue\n",
    "decadeTop5 = df_copy01.groupby(['Decade', 'Company'])['Revenue (in millions)'].sum().reset_index()\n",
    "# reassing a variable to sort a values from these columns 'Decade' ascending order and then by 'Revenue (in millions)' in descending order \n",
    "decadeTop5= decadeTop5.sort_values(by=['Decade','Revenue (in millions)'], ascending=[True, False])\n",
    "# reassing and Group by Decade and the top 5\n",
    "decadeTop5 =decadeTop5.groupby('Decade').head(5)\n",
    "# display the dataframe after reassing\n",
    "decadeTop5.head()"
   ]
  },
  {
   "cell_type": "markdown",
   "id": "86305eb1",
   "metadata": {
    "scrolled": true
   },
   "source": [
    "# Visualization Choice:\n",
    "\n",
    " * A bar chart(plot) to show the top 5 companies of each decade.\n",
    " * set up X and Y (X-axis: Decades, Y-axis: Revenue).\n",
    " * Each decade will have a set of bars, one for each of the 5 largest companies.\n"
   ]
  },
  {
   "cell_type": "code",
   "execution_count": 4,
   "id": "7e39ddbd",
   "metadata": {},
   "outputs": [
    {
     "data": {
      "image/png": "[encoded data removed]",
      "text/plain": [
       "<Figure size 1080x720 with 1 Axes>"
      ]
     },
     "metadata": {},
     "output_type": "display_data"
    }
   ],
   "source": [
    "# Create a bar plot\n",
    "plt.style.use(\"seaborn-whitegrid\")# to get style to plot\n",
    "plt.figure(figsize=(15, 10))# define height and width \n",
    "#display vertical bar, 'hue' parameter is used to differentiate the bars based on the 'Company' column,dodge parameter to display bar for each company beside each order.\n",
    "sns.barplot(x='Decade', y='Revenue (in millions)', hue='Company', data=decadeTop5, dodge=True)\n",
    "plt.title('Top 5 Companies by Revenue for Each Decade')# label the title\n",
    "plt.xlabel('Decade')# label the x-axis plot\n",
    "plt.ylabel('Total Revenue (in millions)')# label the y-axis plot\n",
    "plt.xticks(rotation=45)# label decades at 45 degrees\n",
    "plt.legend(title='Company', bbox_to_anchor=(1.05, 1), loc='upper left')# display title and companies on left side\n",
    "plt.tight_layout()# get to space between plots\n",
    "plt.show();# display the plot"
   ]
  },
  {
   "cell_type": "markdown",
   "id": "86106633",
   "metadata": {
    "scrolled": true
   },
   "source": [
    "# Rationale\n",
    "\n",
    " * Bar plots are effective for comparing the revenue of different companies over distint time periods\n",
    " (decades in this case). It's make easy comparison and ranking of companies based on their revenue."
   ]
  },
  {
   "cell_type": "markdown",
   "id": "43170495",
   "metadata": {},
   "source": [
    "## Task 2: Plot a graph depicting the distribution of “Revenue” in the top 20 Companies in 1971\n",
    "\n",
    "# Approach:\n",
    "    \n",
    "<h3>Data Preparation:</h3>  \n",
    "    \n",
    "    * Filter the dataset by year 1971.\n",
    "    * Sort companies by revenue in descending order.\n",
    "    * Selecting the Top 20 Companies.\n"
   ]
  },
  {
   "cell_type": "code",
   "execution_count": 5,
   "id": "501390fd",
   "metadata": {},
   "outputs": [
    {
     "data": {
      "text/html": [
       "<div>\n",
       "<style scoped>\n",
       "    .dataframe tbody tr th:only-of-type {\n",
       "        vertical-align: middle;\n",
       "    }\n",
       "\n",
       "    .dataframe tbody tr th {\n",
       "        vertical-align: top;\n",
       "    }\n",
       "\n",
       "    .dataframe thead th {\n",
       "        text-align: right;\n",
       "    }\n",
       "</style>\n",
       "<table border=\"1\" class=\"dataframe\">\n",
       "  <thead>\n",
       "    <tr style=\"text-align: right;\">\n",
       "      <th></th>\n",
       "      <th>Year</th>\n",
       "      <th>Rank</th>\n",
       "      <th>Company</th>\n",
       "      <th>Revenue (in millions)</th>\n",
       "    </tr>\n",
       "  </thead>\n",
       "  <tbody>\n",
       "    <tr>\n",
       "      <th>0</th>\n",
       "      <td>1971</td>\n",
       "      <td>1</td>\n",
       "      <td>General Motors</td>\n",
       "      <td>18752.4</td>\n",
       "    </tr>\n",
       "    <tr>\n",
       "      <th>1</th>\n",
       "      <td>1971</td>\n",
       "      <td>2</td>\n",
       "      <td>Exxon Mobil</td>\n",
       "      <td>16554.2</td>\n",
       "    </tr>\n",
       "    <tr>\n",
       "      <th>2</th>\n",
       "      <td>1971</td>\n",
       "      <td>3</td>\n",
       "      <td>Ford Motor</td>\n",
       "      <td>14979.9</td>\n",
       "    </tr>\n",
       "    <tr>\n",
       "      <th>3</th>\n",
       "      <td>1971</td>\n",
       "      <td>4</td>\n",
       "      <td>General Electric</td>\n",
       "      <td>8726.7</td>\n",
       "    </tr>\n",
       "    <tr>\n",
       "      <th>4</th>\n",
       "      <td>1971</td>\n",
       "      <td>5</td>\n",
       "      <td>Intl. Business Machines</td>\n",
       "      <td>7504.0</td>\n",
       "    </tr>\n",
       "  </tbody>\n",
       "</table>\n",
       "</div>"
      ],
      "text/plain": [
       "   Year  Rank                  Company  Revenue (in millions)\n",
       "0  1971     1           General Motors                18752.4\n",
       "1  1971     2              Exxon Mobil                16554.2\n",
       "2  1971     3               Ford Motor                14979.9\n",
       "3  1971     4         General Electric                 8726.7\n",
       "4  1971     5  Intl. Business Machines                 7504.0"
      ]
     },
     "execution_count": 5,
     "metadata": {},
     "output_type": "execute_result"
    }
   ],
   "source": [
    "# reassign a variable to get a copy from the original dataset\n",
    "df_copy02 = df.copy()\n",
    "# # reassign a variable to the year equal to 1971\n",
    "df_copy02=df[df['Year']==1971]\n",
    "# reassing a variable to extract columns and reset\n",
    "Top20 =df_copy02.groupby(['Year','Rank','Company'])['Revenue (in millions)'].sum().reset_index()\n",
    "# reassing a variable to sort a values from these columns  \n",
    "Top20 = Top20.sort_values(by=['Year','Revenue (in millions)'], ascending=[True, False]).head(20)\n",
    "# display the dataframe after reassing\n",
    "Top20.head()\n"
   ]
  },
  {
   "cell_type": "markdown",
   "id": "122bf542",
   "metadata": {},
   "source": [
    "# Visualization Choice:\n",
    "\n",
    " * A barh (horizontal bar plot) visualize the distribution of revenue in the top 20 companies..\n",
    " * set up X and Y (X-axis: Revenue, Y-axis: Company).\n",
    "   \n",
    "   \n"
   ]
  },
  {
   "cell_type": "code",
   "execution_count": 6,
   "id": "021578b4",
   "metadata": {},
   "outputs": [
    {
     "data": {
      "image/png": "[encoded data removed]",
      "text/plain": [
       "<Figure size 720x576 with 1 Axes>"
      ]
     },
     "metadata": {},
     "output_type": "display_data"
    }
   ],
   "source": [
    "\n",
    "#\n",
    "plt.figure(figsize=(10, 8))#  define height and width \n",
    "plt.barh(Top20['Company'],Top20['Revenue (in millions)'], color='blue')# create the bar horizontal from columns Company and revenue\n",
    "plt.xlabel('Revenue (in millions)')# lable for x-axis plot\n",
    "plt.ylabel('Company')# label  for y-axis plot\n",
    "plt.title('Top 20 Companies by Revenue in 1971')# display the title\n",
    "plt.gca().invert_yaxis()  # Invert y-axis to display the highest revenue at the top\n",
    "plt.show()# display the plot"
   ]
  },
  {
   "cell_type": "markdown",
   "id": "fb26d65e",
   "metadata": {
    "scrolled": true
   },
   "source": [
    "# Rationale:\n",
    " * By having category names, in this case company names, that are long and don't fit well on the vertical axis,\n",
    "   a horizontal bar chart(plot) allows you to display the names in a more readable way.\n",
    "   Also to emphasize the trend or pattern of a given data point across multiple categories."
   ]
  },
  {
   "cell_type": "markdown",
   "id": "99e03a77",
   "metadata": {},
   "source": [
    "## Task 3: Visualize which Top 10 Company’s profit increased the most between 1990 and 1999\n",
    "\n",
    "# Approach:\n",
    "\n",
    "* Filter the set of years from 1990 to 1999.\n",
    "* Profit will be calculate for each company\n",
    "* Company will be classified by profit increase"
   ]
  },
  {
   "cell_type": "code",
   "execution_count": 7,
   "id": "a6d5688c",
   "metadata": {},
   "outputs": [
    {
     "data": {
      "text/html": [
       "<div>\n",
       "<style scoped>\n",
       "    .dataframe tbody tr th:only-of-type {\n",
       "        vertical-align: middle;\n",
       "    }\n",
       "\n",
       "    .dataframe tbody tr th {\n",
       "        vertical-align: top;\n",
       "    }\n",
       "\n",
       "    .dataframe thead th {\n",
       "        text-align: right;\n",
       "    }\n",
       "</style>\n",
       "<table border=\"1\" class=\"dataframe\">\n",
       "  <thead>\n",
       "    <tr style=\"text-align: right;\">\n",
       "      <th></th>\n",
       "      <th>Company</th>\n",
       "      <th>Profit (in millions)</th>\n",
       "    </tr>\n",
       "  </thead>\n",
       "  <tbody>\n",
       "    <tr>\n",
       "      <th>320</th>\n",
       "      <td>Exxon Mobil</td>\n",
       "      <td>58080.0</td>\n",
       "    </tr>\n",
       "    <tr>\n",
       "      <th>378</th>\n",
       "      <td>General Electric</td>\n",
       "      <td>55996.0</td>\n",
       "    </tr>\n",
       "    <tr>\n",
       "      <th>43</th>\n",
       "      <td>Altria Group</td>\n",
       "      <td>45682.0</td>\n",
       "    </tr>\n",
       "    <tr>\n",
       "      <th>354</th>\n",
       "      <td>Ford Motor</td>\n",
       "      <td>40465.1</td>\n",
       "    </tr>\n",
       "    <tr>\n",
       "      <th>592</th>\n",
       "      <td>Merck</td>\n",
       "      <td>29624.5</td>\n",
       "    </tr>\n",
       "    <tr>\n",
       "      <th>471</th>\n",
       "      <td>Intel</td>\n",
       "      <td>29245.4</td>\n",
       "    </tr>\n",
       "    <tr>\n",
       "      <th>210</th>\n",
       "      <td>Coca-Cola</td>\n",
       "      <td>23865.7</td>\n",
       "    </tr>\n",
       "    <tr>\n",
       "      <th>17</th>\n",
       "      <td>AT&amp;T</td>\n",
       "      <td>21759.0</td>\n",
       "    </tr>\n",
       "    <tr>\n",
       "      <th>146</th>\n",
       "      <td>Bristol-Myers Squibb</td>\n",
       "      <td>21321.9</td>\n",
       "    </tr>\n",
       "    <tr>\n",
       "      <th>606</th>\n",
       "      <td>Mobil</td>\n",
       "      <td>21240.0</td>\n",
       "    </tr>\n",
       "  </tbody>\n",
       "</table>\n",
       "</div>"
      ],
      "text/plain": [
       "                  Company  Profit (in millions)\n",
       "320           Exxon Mobil               58080.0\n",
       "378      General Electric               55996.0\n",
       "43           Altria Group               45682.0\n",
       "354            Ford Motor               40465.1\n",
       "592                 Merck               29624.5\n",
       "471                 Intel               29245.4\n",
       "210             Coca-Cola               23865.7\n",
       "17                   AT&T               21759.0\n",
       "146  Bristol-Myers Squibb               21321.9\n",
       "606                 Mobil               21240.0"
      ]
     },
     "execution_count": 7,
     "metadata": {},
     "output_type": "execute_result"
    }
   ],
   "source": [
    "# Make a copy of the original DataFrame\n",
    "df_copy3 = df.copy()\n",
    "   # pd.to_numeric from :https://pandas.pydata.org/docs/reference/api/pandas.to_numeric.html\n",
    "# Convert 'Profit (in millions)' column to numeric without modifying the original DataFrame\n",
    "df_copy3['Profit (in millions)'] = pd.to_numeric(df['Profit (in millions)'], errors='coerce')\n",
    "\n",
    "# Filter data for the years between 1990 and 1999\n",
    "filter_df = df_copy3[(df_copy3['Year'] >= 1990) & (df_copy3['Year'] <= 1999)]\n",
    "\n",
    "# Calculate profit increase for each company between 1990 and 1999\n",
    "Top10 = filter_df.groupby(['Company'])['Profit (in millions)'].sum().reset_index()\n",
    "\n",
    "# Filter companies with positive profit increase between 1990 and 1999\n",
    "Top10 = Top10[Top10['Profit (in millions)'] > 0]\n",
    "\n",
    "# Sort the values first by 'Company' in ascending order and then by 'Profit (in millions)' in descending order\n",
    "Top10 = Top10.sort_values(by=['Company', 'Profit (in millions)'], ascending=[True, False])\n",
    "\n",
    "n = 10  # reassing a variable to get the top 10 companies with highest profit\n",
    "\n",
    "# Get the top 10 companies with highest positive profit increase\n",
    "top10_companies = Top10.nlargest(n, 'Profit (in millions)')\n",
    "top10_companies"
   ]
  },
  {
   "cell_type": "markdown",
   "id": "b345bfc6",
   "metadata": {},
   "source": [
    "# Visualization Choice:\n",
    "\n",
    " * A barh (horizontal bar plot)  to represent the top 10 companies have increase profit.\n",
    " * set up X and Y (X-axis: Companies, Y-axis: increase profit).\n"
   ]
  },
  {
   "cell_type": "code",
   "execution_count": 8,
   "id": "a0dc2773",
   "metadata": {
    "scrolled": false
   },
   "outputs": [
    {
     "data": {
      "image/png": "[encoded data removed]",
      "text/plain": [
       "<Figure size 720x432 with 1 Axes>"
      ]
     },
     "metadata": {},
     "output_type": "display_data"
    }
   ],
   "source": [
    "# Visualize the top 10 companies with positive profit increase\n",
    "plt.figure(figsize=(10, 6))#  define height and width\n",
    "plt.barh(top10_companies['Company'], top10_companies['Profit (in millions)'], color='red')\n",
    "plt.xlabel('Profit Increase (in millions)') #lable for x-axis plot\n",
    "plt.ylabel('Company') # label  for y-axis plot\n",
    "plt.title('Top 10 Companies with Positive Profit Increase (1990-1999)') # # display the title\n",
    "plt.gca().invert_yaxis()  # Invert y-axis to display the company with the highest increase on top\n",
    "plt.show()# display the plot"
   ]
  },
  {
   "cell_type": "markdown",
   "id": "4b39bcd0",
   "metadata": {
    "scrolled": true
   },
   "source": [
    "# Rationale:\n",
    "* The bar plot in this scenario is effective for comparing profit growth between different companies. \n",
    "  This visualization helps you identify which companies had the most significant profit growth during the specified period."
   ]
  },
  {
   "cell_type": "markdown",
   "id": "7d9ae341",
   "metadata": {},
   "source": [
    "## Task 4: Observe and plot the average revenue by decade\n",
    "\n",
    "# Approach:\n",
    "\n",
    "<h3>Data Preparation:</h3>  \n",
    "    \n",
    "    * Data will be group by decade.\n",
    "    * Average revenue will be calculated every decade."
   ]
  },
  {
   "cell_type": "code",
   "execution_count": 9,
   "id": "8323929f",
   "metadata": {},
   "outputs": [
    {
     "data": {
      "text/html": [
       "<div>\n",
       "<style scoped>\n",
       "    .dataframe tbody tr th:only-of-type {\n",
       "        vertical-align: middle;\n",
       "    }\n",
       "\n",
       "    .dataframe tbody tr th {\n",
       "        vertical-align: top;\n",
       "    }\n",
       "\n",
       "    .dataframe thead th {\n",
       "        text-align: right;\n",
       "    }\n",
       "</style>\n",
       "<table border=\"1\" class=\"dataframe\">\n",
       "  <thead>\n",
       "    <tr style=\"text-align: right;\">\n",
       "      <th></th>\n",
       "      <th>Decade</th>\n",
       "      <th>Revenue (in millions)</th>\n",
       "    </tr>\n",
       "  </thead>\n",
       "  <tbody>\n",
       "    <tr>\n",
       "      <th>0</th>\n",
       "      <td>1950</td>\n",
       "      <td>335.05244</td>\n",
       "    </tr>\n",
       "    <tr>\n",
       "      <th>1</th>\n",
       "      <td>1960</td>\n",
       "      <td>549.35638</td>\n",
       "    </tr>\n",
       "    <tr>\n",
       "      <th>2</th>\n",
       "      <td>1970</td>\n",
       "      <td>1522.21072</td>\n",
       "    </tr>\n",
       "    <tr>\n",
       "      <th>3</th>\n",
       "      <td>1980</td>\n",
       "      <td>3483.96466</td>\n",
       "    </tr>\n",
       "    <tr>\n",
       "      <th>4</th>\n",
       "      <td>1990</td>\n",
       "      <td>7351.89874</td>\n",
       "    </tr>\n",
       "  </tbody>\n",
       "</table>\n",
       "</div>"
      ],
      "text/plain": [
       "   Decade  Revenue (in millions)\n",
       "0    1950              335.05244\n",
       "1    1960              549.35638\n",
       "2    1970             1522.21072\n",
       "3    1980             3483.96466\n",
       "4    1990             7351.89874"
      ]
     },
     "execution_count": 9,
     "metadata": {},
     "output_type": "execute_result"
    }
   ],
   "source": [
    "#reassing and get copy from original dataset\n",
    "df_copy01 = df.copy()\n",
    "\n",
    "# Calculate the decade for each year\n",
    "df_copy01['Decade'] = (df['Year'] // 10) * 10\n",
    "\n",
    "# Group by Decade and calculate the average revenue for each decade\n",
    "decade_avg_revenue = df_copy01.groupby('Decade')['Revenue (in millions)'].mean().reset_index()\n",
    "# display the dataframe after reassing\n",
    "decade_avg_revenue.head()\n",
    "\n"
   ]
  },
  {
   "cell_type": "markdown",
   "id": "9190c0ea",
   "metadata": {},
   "source": [
    "## Visualization Choice:\n",
    "\n",
    "* A line plot to represent the trend of average revenue over decades.\n",
    "* Set up X, Y(X-axis: Decades, Y-axis: Average Revenue)."
   ]
  },
  {
   "cell_type": "code",
   "execution_count": 10,
   "id": "aa50cf35",
   "metadata": {},
   "outputs": [
    {
     "data": {
      "image/png": "[encoded data removed]",
      "text/plain": [
       "<Figure size 720x432 with 1 Axes>"
      ]
     },
     "metadata": {},
     "output_type": "display_data"
    }
   ],
   "source": [
    "# Create a line plot for average revenue by decade\n",
    "plt.style.use(\"seaborn-ticks\")# style the background plot\n",
    "plt.figure(figsize=(10, 6))#  define height and width \n",
    "# display the line plot by columns Decade and  Revenue and style it.\n",
    "plt.plot(decade_avg_revenue['Decade'], decade_avg_revenue['Revenue (in millions)'], marker='o', color='green', linewidth=2)\n",
    "plt.title('Average Revenue for Each Decade')# label the title\n",
    "plt.xlabel('Decade')# label the x-axis plot\n",
    "plt.ylabel('Average Revenue (in millions)')# label  the y-axis\n",
    "plt.xticks(rotation=45)#label decades at 45 degrees\n",
    "plt.tight_layout()# get space between subplots\n",
    "plt.show()# display the plot"
   ]
  },
  {
   "cell_type": "markdown",
   "id": "935b2c28",
   "metadata": {},
   "source": [
    "# Rationale:\n",
    "* Line charts are useful for representing trends over a continuous range and can be easily visualized, \n",
    "  in this case for example it is much better to see a line chart\n",
    "  than bar charts as you can see the average revenue in different decades."
   ]
  },
  {
   "cell_type": "code",
   "execution_count": null,
   "id": "49bfd5ed",
   "metadata": {},
   "outputs": [],
   "source": []
  },
  {
   "cell_type": "code",
   "execution_count": null,
   "id": "474d2f1b",
   "metadata": {},
   "outputs": [],
   "source": [
    "\n"
   ]
  },
  {
   "cell_type": "code",
   "execution_count": null,
   "id": "12df3771",
   "metadata": {},
   "outputs": [],
   "source": []
  },
  {
   "cell_type": "code",
   "execution_count": null,
   "id": "b29e1ce6",
   "metadata": {},
   "outputs": [],
   "source": []
  },
  {
   "cell_type": "code",
   "execution_count": null,
   "id": "ba7500ce",
   "metadata": {},
   "outputs": [],
   "source": []
  },
  {
   "cell_type": "code",
   "execution_count": null,
   "id": "411c7f9b",
   "metadata": {},
   "outputs": [],
   "source": []
  },
  {
   "cell_type": "code",
   "execution_count": null,
   "id": "ef295ddf",
   "metadata": {},
   "outputs": [],
   "source": []
  },
  {
   "cell_type": "code",
   "execution_count": null,
   "id": "5cd88365",
   "metadata": {},
   "outputs": [],
   "source": []
  }
 ],
 "metadata": {
  "kernelspec": {
   "display_name": "Python 3 (ipykernel)",
   "language": "python",
   "name": "python3"
  },
  "language_info": {
   "codemirror_mode": {
    "name": "ipython",
    "version": 3
   },
   "file_extension": ".py",
   "mimetype": "text/x-python",
   "name": "python",
   "nbconvert_exporter": "python",
   "pygments_lexer": "ipython3",
   "version": "3.9.12"
  }
 },
 "nbformat": 4,
 "nbformat_minor": 5
}
